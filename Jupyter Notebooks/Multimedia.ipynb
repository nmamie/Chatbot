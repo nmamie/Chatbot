{
 "cells": [
  {
   "cell_type": "markdown",
   "metadata": {},
   "source": [
    "# Multimodal Questions"
   ]
  },
  {
   "cell_type": "code",
   "execution_count": 7,
   "metadata": {},
   "outputs": [],
   "source": [
    "import pickle\n",
    "import os\n",
    "import json\n",
    "import random\n",
    "import pickle"
   ]
  },
  {
   "cell_type": "code",
   "execution_count": 3,
   "metadata": {},
   "outputs": [],
   "source": [
    "os.chdir(\"../data/Multimedia/\")"
   ]
  },
  {
   "cell_type": "code",
   "execution_count": null,
   "metadata": {},
   "outputs": [],
   "source": [
    "with open(\"images.json\", \"r\") as f:\n",
    "    images = json.load(f)"
   ]
  },
  {
   "cell_type": "code",
   "execution_count": 8,
   "metadata": {},
   "outputs": [],
   "source": [
    "# load the images\n",
    "with open(\"../data/Multimedia/images.pickle\", \"rb\") as f:\n",
    "    images = pickle.load(f)"
   ]
  },
  {
   "cell_type": "code",
   "execution_count": 9,
   "metadata": {},
   "outputs": [
    {
     "data": {
      "text/plain": [
       "3155532"
      ]
     },
     "execution_count": 9,
     "metadata": {},
     "output_type": "execute_result"
    }
   ],
   "source": [
    "len(images)"
   ]
  },
  {
   "cell_type": "code",
   "execution_count": 26,
   "metadata": {},
   "outputs": [],
   "source": [
    "types = []\n",
    "for image in images:\n",
    "    if image[\"type\"] not in types:\n",
    "        types.append(image[\"type\"])"
   ]
  },
  {
   "cell_type": "code",
   "execution_count": 27,
   "metadata": {},
   "outputs": [
    {
     "data": {
      "text/plain": [
       "['behind_the_scenes',\n",
       " 'still_frame',\n",
       " 'publicity',\n",
       " 'event',\n",
       " 'poster',\n",
       " 'production_art',\n",
       " 'product',\n",
       " 'unknown',\n",
       " 'user_avatar']"
      ]
     },
     "execution_count": 27,
     "metadata": {},
     "output_type": "execute_result"
    }
   ],
   "source": [
    "types"
   ]
  },
  {
   "cell_type": "code",
   "execution_count": 10,
   "metadata": {},
   "outputs": [
    {
     "data": {
      "text/html": [
       "<img src=\"https://files.ifi.uzh.ch/ddis/teaching/2021/ATAI/dataset/movienet/images/3459/rm537652736.jpg\"/>"
      ],
      "text/plain": [
       "<IPython.core.display.Image object>"
      ]
     },
     "execution_count": 10,
     "metadata": {},
     "output_type": "execute_result"
    }
   ],
   "source": [
    "from IPython.display import Image\n",
    "\n",
    "url = \"https://files.ifi.uzh.ch/ddis/teaching/2021/ATAI/dataset/movienet/images/3459/rm537652736.jpg\"\n",
    "Image(url=url)"
   ]
  },
  {
   "cell_type": "code",
   "execution_count": 43,
   "metadata": {},
   "outputs": [],
   "source": [
    "def image_finder(IMDB_id, movie_id, images):\n",
    "    \"\"\"\n",
    "    Find the corresponding image based on the JSON file\n",
    "    \"\"\"\n",
    "    image_url = None\n",
    "    while image_url == None:\n",
    "        image = random.choice(images)\n",
    "        if IMDB_id in image[\"cast\"] and len(image[\"cast\"]) == 1 and movie_id in image[\"movie\"]:\n",
    "            image_url = image[\"img\"]\n",
    "            return f\"https://files.ifi.uzh.ch/ddis/teaching/2021/ATAI/dataset/movienet/images/{image_url}\"\n",
    "        # elif IMDB_id in image[\"cast\"] and len(image[\"cast\"]) == 1 and image[\"type\"] == \"still_frame\":\n",
    "        #     image_url = image[\"img\"]\n",
    "        #     return f\"https://files.ifi.uzh.ch/ddis/teaching/2021/ATAI/dataset/movienet/images/{image_url}\"\n",
    "        # elif IMDB_id in image[\"cast\"] and len(image[\"cast\"]) == 1:\n",
    "        #     image_url = image[\"img\"]\n",
    "        #     return f\"https://files.ifi.uzh.ch/ddis/teaching/2021/ATAI/dataset/movienet/images/{image_url}\"\n",
    "    return \"Not found\""
   ]
  },
  {
   "cell_type": "code",
   "execution_count": null,
   "metadata": {},
   "outputs": [],
   "source": [
    "def image_finder1(IMDB_id, movie_id, images):\n",
    "    \"\"\"\n",
    "    Find the corresponding image based on the JSON file\n",
    "    \"\"\"\n",
    "    for image in images:\n",
    "        if IMDB_id in image[\"cast\"] and len(image[\"cast\"]) == 1 and movie_id in image[\"movie\"]:\n",
    "            image_url = image[\"img\"]\n",
    "            return f\"https://files.ifi.uzh.ch/ddis/teaching/2021/ATAI/dataset/movienet/images/{image_url}\"\n",
    "        # elif IMDB_id in image[\"cast\"] and len(image[\"cast\"]) == 1 and image[\"type\"] == \"still_frame\":\n",
    "        #     image_url = image[\"img\"]\n",
    "        #     return f\"https://files.ifi.uzh.ch/ddis/teaching/2021/ATAI/dataset/movienet/images/{image_url}\"\n",
    "        # elif IMDB_id in image[\"cast\"] and len(image[\"cast\"]) == 1:\n",
    "        #     image_url = image[\"img\"]\n",
    "        #     return f\"https://files.ifi.uzh.ch/ddis/teaching/2021/ATAI/dataset/movienet/images/{image_url}\"\n",
    "    return \"Not found\""
   ]
  },
  {
   "cell_type": "code",
   "execution_count": 66,
   "metadata": {},
   "outputs": [
    {
     "data": {
      "text/html": [
       "<img src=\"Not found\"/>"
      ],
      "text/plain": [
       "<IPython.core.display.Image object>"
      ]
     },
     "execution_count": 66,
     "metadata": {},
     "output_type": "execute_result"
    }
   ],
   "source": [
    "Image(url=image_finder1(\"nm0000158\", \"tt0092732\", images))"
   ]
  },
  {
   "cell_type": "code",
   "execution_count": 56,
   "metadata": {},
   "outputs": [
    {
     "name": "stdout",
     "output_type": "stream",
     "text": [
      "https://files.ifi.uzh.ch/ddis/teaching/2021/ATAI/dataset/movienet/images/1663/rm3836324096.jpg\n"
     ]
    }
   ],
   "source": [
    "print(image_finder(\"nm0185819\", \"tt1074638\", images))"
   ]
  },
  {
   "cell_type": "code",
   "execution_count": 59,
   "metadata": {},
   "outputs": [
    {
     "data": {
      "text/html": [
       "<img src=\"https://files.ifi.uzh.ch/ddis/teaching/2021/ATAI/dataset/movienet/images/3301/rm4285378816.jpg\"/>"
      ],
      "text/plain": [
       "<IPython.core.display.Image object>"
      ]
     },
     "execution_count": 59,
     "metadata": {},
     "output_type": "execute_result"
    }
   ],
   "source": [
    "Image(url=image_finder(\"nm0185819\", \"tt1074638\", images))"
   ]
  },
  {
   "cell_type": "code",
   "execution_count": 61,
   "metadata": {},
   "outputs": [
    {
     "data": {
      "text/html": [
       "<img src=\"https://files.ifi.uzh.ch/ddis/teaching/2021/ATAI/dataset/movienet/images/1064/rm2273051392.jpg\"/>"
      ],
      "text/plain": [
       "<IPython.core.display.Image object>"
      ]
     },
     "execution_count": 61,
     "metadata": {},
     "output_type": "execute_result"
    }
   ],
   "source": [
    "Image(url=image_finder(\"nm0000138\", \"tt1663202\", images))"
   ]
  },
  {
   "cell_type": "code",
   "execution_count": 49,
   "metadata": {},
   "outputs": [
    {
     "data": {
      "text/html": [
       "<img src=\"https://files.ifi.uzh.ch/ddis/teaching/2021/ATAI/dataset/movienet/images/1076/rm3699387648.jpg\"/>"
      ],
      "text/plain": [
       "<IPython.core.display.Image object>"
      ]
     },
     "execution_count": 49,
     "metadata": {},
     "output_type": "execute_result"
    }
   ],
   "source": [
    "Image(url=image_finder(\"nm0000932\", images))"
   ]
  },
  {
   "cell_type": "code",
   "execution_count": null,
   "metadata": {},
   "outputs": [],
   "source": []
  }
 ],
 "metadata": {
  "kernelspec": {
   "display_name": "Python 3.10.2 ('vimJupy')",
   "language": "python",
   "name": "python3"
  },
  "language_info": {
   "codemirror_mode": {
    "name": "ipython",
    "version": 3
   },
   "file_extension": ".py",
   "mimetype": "text/x-python",
   "name": "python",
   "nbconvert_exporter": "python",
   "pygments_lexer": "ipython3",
   "version": "3.10.2"
  },
  "orig_nbformat": 4,
  "vscode": {
   "interpreter": {
    "hash": "f0daf8fb9a4ebe6f1131ce66d2ca2270ce390dc95e8d56679d9744e321329684"
   }
  }
 },
 "nbformat": 4,
 "nbformat_minor": 2
}
